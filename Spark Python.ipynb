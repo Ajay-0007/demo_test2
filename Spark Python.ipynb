{
    "cells": [
        {
            "cell_type": "code",
            "execution_count": 1,
            "metadata": {},
            "outputs": [
                {
                    "name": "stdout",
                    "output_type": "stream",
                    "text": "Waiting for a Spark session to start...\nSpark Initialization Done! ApplicationId = app-20211201150514-0000\nKERNEL_ID = 3ce103b7-f9e5-498c-83f0-f6c1d9ea5d41\n"
                },
                {
                    "data": {
                        "text/plain": "[Row(DATE='2015-07-25T13:51:00Z', HOURLYDewPointTempF='60', HOURLYRelativeHumidity='46', HOURLYDRYBULBTEMPF='83', HOURLYWETBULBTEMPF='68', HOURLYPrecip='0.00', HOURLYWindSpeed='13', HOURLYSeaLevelPressure='30.01', HOURLYStationPressure='29.99'),\n Row(DATE='2016-11-18T23:51:00Z', HOURLYDewPointTempF='34', HOURLYRelativeHumidity='48', HOURLYDRYBULBTEMPF='53', HOURLYWETBULBTEMPF='44', HOURLYPrecip='0.00', HOURLYWindSpeed='6', HOURLYSeaLevelPressure='30.05', HOURLYStationPressure='30.03'),\n Row(DATE='2013-01-06T08:51:00Z', HOURLYDewPointTempF='33', HOURLYRelativeHumidity='89', HOURLYDRYBULBTEMPF='36', HOURLYWETBULBTEMPF='35', HOURLYPrecip='0.00', HOURLYWindSpeed='13', HOURLYSeaLevelPressure='30.14', HOURLYStationPressure='30.12'),\n Row(DATE='2011-01-27T16:51:00Z', HOURLYDewPointTempF='18', HOURLYRelativeHumidity='48', HOURLYDRYBULBTEMPF='36', HOURLYWETBULBTEMPF='30', HOURLYPrecip='0.00', HOURLYWindSpeed='14', HOURLYSeaLevelPressure='29.82', HOURLYStationPressure='29.8'),\n Row(DATE='2015-01-03T12:16:00Z', HOURLYDewPointTempF='27', HOURLYRelativeHumidity='61', HOURLYDRYBULBTEMPF='39', HOURLYWETBULBTEMPF='34', HOURLYPrecip='T', HOURLYWindSpeed='11', HOURLYSeaLevelPressure='NA', HOURLYStationPressure='30.5')]"
                    },
                    "execution_count": 1,
                    "metadata": {},
                    "output_type": "execute_result"
                }
            ],
            "source": "# The code was removed by Watson Studio for sharing."
        },
        {
            "cell_type": "code",
            "execution_count": null,
            "metadata": {},
            "outputs": [],
            "source": ""
        }
    ],
    "metadata": {
        "kernelspec": {
            "display_name": "Python 3.7 with Spark",
            "language": "python3",
            "name": "python37"
        },
        "language_info": {
            "codemirror_mode": {
                "name": "ipython",
                "version": 3
            },
            "file_extension": ".py",
            "mimetype": "text/x-python",
            "name": "python",
            "nbconvert_exporter": "python",
            "pygments_lexer": "ipython3",
            "version": "3.7.10"
        }
    },
    "nbformat": 4,
    "nbformat_minor": 1
}